{
  "nbformat": 4,
  "nbformat_minor": 0,
  "metadata": {
    "colab": {
      "name": "Part 1_2.ipynb",
      "provenance": [],
      "collapsed_sections": [],
      "authorship_tag": "ABX9TyOEUaz7zBwEI/aggODSDgga",
      "include_colab_link": true
    },
    "kernelspec": {
      "name": "python3",
      "display_name": "Python 3"
    }
  },
  "cells": [
    {
      "cell_type": "markdown",
      "metadata": {
        "id": "view-in-github",
        "colab_type": "text"
      },
      "source": [
        "<a href=\"https://colab.research.google.com/github/ohowland/AOC2020/blob/main/Part_1_2.ipynb\" target=\"_parent\"><img src=\"https://colab.research.google.com/assets/colab-badge.svg\" alt=\"Open In Colab\"/></a>"
      ]
    },
    {
      "cell_type": "markdown",
      "metadata": {
        "id": "HkTqZSdUwECI"
      },
      "source": [
        ""
      ]
    },
    {
      "cell_type": "markdown",
      "metadata": {
        "id": "15nE-yyGwUrI"
      },
      "source": [
        "Python statistics libraries:\r\n",
        "- https://docs.scipy.org/doc/scipy/reference/stats.html\r\n",
        "- https://numpy.org/doc/stable/reference/routines.statistics.html"
      ]
    },
    {
      "cell_type": "code",
      "metadata": {
        "id": "u75d47cHxAdf"
      },
      "source": [
        "import numpy as np\r\n",
        "import matplotlib.pyplot as plt\r\n",
        "from scipy.stats.distributions import norm"
      ],
      "execution_count": null,
      "outputs": []
    },
    {
      "cell_type": "code",
      "metadata": {
        "colab": {
          "base_uri": "https://localhost:8080/",
          "height": 394
        },
        "id": "lIGLT52ixRI0",
        "outputId": "a0792619-05ef-4ea1-a9fa-f6fd052d7d2e"
      },
      "source": [
        "# Normal Distribution\r\n",
        "# Numpy and Scipy Package\r\n",
        "np_dist = np.random.normal(1,1,10)\r\n",
        "print(np_dist)\r\n",
        "\r\n",
        "sp_dist = norm.rvs(loc=1, scale=1, size=10)\r\n",
        "print(sp_dist)\r\n",
        "\r\n",
        "print(norm.ppf(0.01, loc=1))\r\n",
        "print(norm.ppf(0.99, loc=1))\r\n",
        "\r\n",
        "rv = norm(loc = 1, scale = 1) # example of freezing\r\n",
        "x = np.linspace(rv.ppf(0.01), rv.ppf(0.99), 100)\r\n",
        "fig, ax = plt.subplots(1, 1)\r\n",
        "ax.plot(x, rv.pdf(x))\r\n"
      ],
      "execution_count": null,
      "outputs": [
        {
          "output_type": "stream",
          "text": [
            "[ 1.970789    1.1532374   0.60920172 -0.37852583  1.55916     1.95780597\n",
            " -0.88296143  2.54584208  0.67503609  1.0508092 ]\n",
            "[1.33876357 0.72066666 1.06874105 0.33964964 1.05829048 1.53084339\n",
            " 0.07966324 0.96379262 1.41601247 1.29413761]\n",
            "-1.3263478740408408\n",
            "3.3263478740408408\n"
          ],
          "name": "stdout"
        },
        {
          "output_type": "execute_result",
          "data": {
            "text/plain": [
              "[<matplotlib.lines.Line2D at 0x7fd204088750>]"
            ]
          },
          "metadata": {
            "tags": []
          },
          "execution_count": 33
        },
        {
          "output_type": "display_data",
          "data": {
            "image/png": "[encoded data removed]",
            "text/plain": [
              "<Figure size 432x288 with 1 Axes>"
            ]
          },
          "metadata": {
            "tags": [],
            "needs_background": "light"
          }
        }
      ]
    },
    {
      "cell_type": "code",
      "metadata": {
        "id": "loOQiqT0dv5R"
      },
      "source": [
        ""
      ],
      "execution_count": null,
      "outputs": []
    }
  ]
}